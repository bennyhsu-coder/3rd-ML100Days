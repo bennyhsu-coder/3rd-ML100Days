from keras.utils import multi_gpu_model
from keras.models import Model
from keras.layers import Input, Dense


a = Input(shape=(32,))
b = Dense(32)(a)
model = Model(inputs=a, outputs=b)

config = model.get_config()
print(config)

model.summary()

import keras
from keras import backend as K

K.epsilon()


K.set_epsilon(1e-05)
K.epsilon()

K.set_floatx('float16')
K.floatx()