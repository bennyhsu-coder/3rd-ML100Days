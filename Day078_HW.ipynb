{
 "cells": [
  {
   "cell_type": "markdown",
   "metadata": {},
   "source": [
    "## Work\n",
    "1. 請嘗試將 preproc_x 替換成以每筆資料的 min/max 進行標準化至 -1 ~ 1 間，再進行訓練\n",
    "2. 請嘗試將 mlp 疊更深 (e.g 5~10 層)，進行訓練後觀察 learning curve 的走勢\n",
    "3. (optional) 請改用 GPU 進行訓練 (如果你有 GPU 的話)，比較使用 CPU 與 GPU 的訓練速度"
   ]
  },
  {
   "cell_type": "code",
   "execution_count": 16,
   "metadata": {},
   "outputs": [
    {
     "data": {
      "text/plain": [
       "'\\nYour code here (optional)\\n確認硬體資源\\n'"
      ]
     },
     "execution_count": 16,
     "metadata": {},
     "output_type": "execute_result"
    }
   ],
   "source": [
    "## \n",
    "\"\"\"\n",
    "Your code here (optional)\n",
    "確認硬體資源\n",
    "\"\"\"\n"
   ]
  },
  {
   "cell_type": "code",
   "execution_count": 24,
   "metadata": {},
   "outputs": [],
   "source": [
    "import os\n",
    "import keras\n",
    "\n",
    "# 請嘗試設定 GPU：os.environ\n",
    "os.environ[\"CUDA_VISIBLE_DEVICES\"] = \"\""
   ]
  },
  {
   "cell_type": "code",
   "execution_count": 25,
   "metadata": {},
   "outputs": [],
   "source": [
    "\n",
    "train, test = keras.datasets.cifar10.load_data()"
   ]
  },
  {
   "cell_type": "code",
   "execution_count": 32,
   "metadata": {},
   "outputs": [],
   "source": [
    "## 資料前處理\n",
    "\"\"\"\n",
    "Your code here\n",
    "\"\"\"\n",
    "def preproc_x(x, flatten=True):\n",
    "    x = x / 255.\n",
    "    if flatten:\n",
    "        x = x.reshape(len(x), -1)\n",
    "    return x\n",
    "\n",
    "def preproc_y(y, num_classes=10):\n",
    "    if y.shape[-1] == 1 :\n",
    "        y = keras.utils.to_categorical(y, num_classes)\n",
    "    return y"
   ]
  },
  {
   "cell_type": "code",
   "execution_count": 33,
   "metadata": {},
   "outputs": [],
   "source": [
    "x_train, y_train = train\n",
    "x_test, y_test = test\n",
    "\n",
    "# Preproc the inputs\n",
    "x_train = preproc_x(x_train)\n",
    "x_test = preproc_x(x_test)\n",
    "\n",
    "# Preprc the outputs\n",
    "y_train = preproc_y(y_train)\n",
    "y_test = preproc_y(y_test)"
   ]
  },
  {
   "cell_type": "code",
   "execution_count": 34,
   "metadata": {},
   "outputs": [
    {
     "name": "stdout",
     "output_type": "stream",
     "text": [
      "_________________________________________________________________\n",
      "Layer (type)                 Output Shape              Param #   \n",
      "=================================================================\n",
      "input_3 (InputLayer)         (None, 3072)              0         \n",
      "_________________________________________________________________\n",
      "hidden_layer1 (Dense)        (None, 512)               1573376   \n",
      "_________________________________________________________________\n",
      "hidden_layer2 (Dense)        (None, 256)               131328    \n",
      "_________________________________________________________________\n",
      "hidden_layer3 (Dense)        (None, 128)               32896     \n",
      "_________________________________________________________________\n",
      "hidden_layer4 (Dense)        (None, 64)                8256      \n",
      "_________________________________________________________________\n",
      "hidden_layer5 (Dense)        (None, 32)                2080      \n",
      "_________________________________________________________________\n",
      "hidden_layer6 (Dense)        (None, 16)                528       \n",
      "_________________________________________________________________\n",
      "output (Dense)               (None, 10)                170       \n",
      "=================================================================\n",
      "Total params: 1,748,634\n",
      "Trainable params: 1,748,634\n",
      "Non-trainable params: 0\n",
      "_________________________________________________________________\n"
     ]
    }
   ],
   "source": [
    "\"\"\"Code Here\n",
    "建立你的神經網路\n",
    "\"\"\"\n",
    "def build_mlp(input_shape, output_units=10, num_neurons=[512, 256, 128]):\n",
    "\n",
    "    input_layer = keras.layers.Input(input_shape)\n",
    "    for i, n_units in enumerate(num_neurons):\n",
    "        if i == 0 :\n",
    "            x = keras.layers.Dense(units=n_units, activation=\"relu\", name=\"hidden_layer\"+str(i+1))(input_layer)\n",
    "        else:\n",
    "            x = keras.layers.Dense(units=n_units, activation=\"relu\", name=\"hidden_layer\"+str(i+1))(x)\n",
    "\n",
    "    out = keras.layers.Dense(units=output_units, activation=\"softmax\", name=\"output\")(x)\n",
    "    \n",
    "    model = keras.models.Model(inputs=[input_layer], outputs=[out])\n",
    "\n",
    "    return model\n",
    "\n",
    "model = build_mlp(input_shape=x_train.shape[1:], num_neurons=[512, 256, 128, 64, 32, 16])\n",
    "model.summary()"
   ]
  },
  {
   "cell_type": "code",
   "execution_count": 35,
   "metadata": {},
   "outputs": [],
   "source": [
    "## 超參數設定\n",
    "LEARNING_RATE = 0.001\n",
    "EPOCHS = 100\n",
    "BATCH_SIZE = 256"
   ]
  },
  {
   "cell_type": "code",
   "execution_count": 36,
   "metadata": {},
   "outputs": [],
   "source": [
    "optimizer = keras.optimizers.Adam(lr=LEARNING_RATE)\n",
    "model.compile(loss=\"categorical_crossentropy\", metrics=[\"accuracy\"], optimizer=optimizer)"
   ]
  },
  {
   "cell_type": "code",
   "execution_count": 37,
   "metadata": {
    "scrolled": true
   },
   "outputs": [
    {
     "name": "stdout",
     "output_type": "stream",
     "text": [
      "WARNING:tensorflow:From D:\\PYTHON\\lib\\site-packages\\tensorflow_core\\python\\ops\\math_grad.py:1424: where (from tensorflow.python.ops.array_ops) is deprecated and will be removed in a future version.\n",
      "Instructions for updating:\n",
      "Use tf.where in 2.0, which has the same broadcast rule as np.where\n",
      "WARNING:tensorflow:From D:\\PYTHON\\lib\\site-packages\\keras\\backend\\tensorflow_backend.py:986: The name tf.assign_add is deprecated. Please use tf.compat.v1.assign_add instead.\n",
      "\n",
      "WARNING:tensorflow:From D:\\PYTHON\\lib\\site-packages\\keras\\backend\\tensorflow_backend.py:973: The name tf.assign is deprecated. Please use tf.compat.v1.assign instead.\n",
      "\n",
      "WARNING:tensorflow:From D:\\PYTHON\\lib\\site-packages\\keras\\backend\\tensorflow_backend.py:2741: The name tf.Session is deprecated. Please use tf.compat.v1.Session instead.\n",
      "\n",
      "Train on 50000 samples, validate on 10000 samples\n",
      "Epoch 1/100\n",
      "WARNING:tensorflow:From D:\\PYTHON\\lib\\site-packages\\keras\\backend\\tensorflow_backend.py:174: The name tf.get_default_session is deprecated. Please use tf.compat.v1.get_default_session instead.\n",
      "\n",
      "WARNING:tensorflow:From D:\\PYTHON\\lib\\site-packages\\keras\\backend\\tensorflow_backend.py:184: The name tf.ConfigProto is deprecated. Please use tf.compat.v1.ConfigProto instead.\n",
      "\n",
      "WARNING:tensorflow:From D:\\PYTHON\\lib\\site-packages\\keras\\backend\\tensorflow_backend.py:190: The name tf.global_variables is deprecated. Please use tf.compat.v1.global_variables instead.\n",
      "\n",
      "WARNING:tensorflow:From D:\\PYTHON\\lib\\site-packages\\keras\\backend\\tensorflow_backend.py:199: The name tf.is_variable_initialized is deprecated. Please use tf.compat.v1.is_variable_initialized instead.\n",
      "\n",
      "WARNING:tensorflow:From D:\\PYTHON\\lib\\site-packages\\keras\\backend\\tensorflow_backend.py:206: The name tf.variables_initializer is deprecated. Please use tf.compat.v1.variables_initializer instead.\n",
      "\n",
      "50000/50000 [==============================] - 16s 329us/step - loss: 2.0202 - acc: 0.2477 - val_loss: 1.8526 - val_acc: 0.3279\n",
      "Epoch 2/100\n",
      "50000/50000 [==============================] - 7s 145us/step - loss: 1.7953 - acc: 0.3491 - val_loss: 1.7838 - val_acc: 0.3559\n",
      "Epoch 3/100\n",
      "50000/50000 [==============================] - 7s 142us/step - loss: 1.6960 - acc: 0.3909 - val_loss: 1.6304 - val_acc: 0.4231\n",
      "Epoch 4/100\n",
      "50000/50000 [==============================] - 7s 139us/step - loss: 1.6146 - acc: 0.4203 - val_loss: 1.6455 - val_acc: 0.4090\n",
      "Epoch 5/100\n",
      "50000/50000 [==============================] - 7s 139us/step - loss: 1.5602 - acc: 0.4383 - val_loss: 1.5573 - val_acc: 0.4373\n",
      "Epoch 6/100\n",
      "50000/50000 [==============================] - 7s 136us/step - loss: 1.5192 - acc: 0.4553 - val_loss: 1.5241 - val_acc: 0.4553\n",
      "Epoch 7/100\n",
      "50000/50000 [==============================] - 7s 135us/step - loss: 1.4828 - acc: 0.4684 - val_loss: 1.5052 - val_acc: 0.4583\n",
      "Epoch 8/100\n",
      "50000/50000 [==============================] - 9s 181us/step - loss: 1.4515 - acc: 0.4799 - val_loss: 1.4849 - val_acc: 0.4728\n",
      "Epoch 9/100\n",
      "50000/50000 [==============================] - 8s 159us/step - loss: 1.4240 - acc: 0.4897 - val_loss: 1.4640 - val_acc: 0.4777\n",
      "Epoch 10/100\n",
      "50000/50000 [==============================] - 8s 169us/step - loss: 1.3932 - acc: 0.5036 - val_loss: 1.4488 - val_acc: 0.4816\n",
      "Epoch 11/100\n",
      "50000/50000 [==============================] - 8s 155us/step - loss: 1.3763 - acc: 0.5073 - val_loss: 1.4574 - val_acc: 0.4838\n",
      "Epoch 12/100\n",
      "50000/50000 [==============================] - 7s 137us/step - loss: 1.3441 - acc: 0.5186 - val_loss: 1.4242 - val_acc: 0.4947\n",
      "Epoch 13/100\n",
      "50000/50000 [==============================] - 7s 137us/step - loss: 1.3238 - acc: 0.5280 - val_loss: 1.4218 - val_acc: 0.4947\n",
      "Epoch 14/100\n",
      "50000/50000 [==============================] - 7s 137us/step - loss: 1.2938 - acc: 0.5381 - val_loss: 1.3853 - val_acc: 0.5108\n",
      "Epoch 15/100\n",
      "50000/50000 [==============================] - 8s 153us/step - loss: 1.2833 - acc: 0.5426 - val_loss: 1.3780 - val_acc: 0.5147\n",
      "Epoch 16/100\n",
      "50000/50000 [==============================] - 10s 192us/step - loss: 1.2585 - acc: 0.5492 - val_loss: 1.3876 - val_acc: 0.5057\n",
      "Epoch 17/100\n",
      "50000/50000 [==============================] - 10s 195us/step - loss: 1.2377 - acc: 0.5565 - val_loss: 1.3762 - val_acc: 0.5183\n",
      "Epoch 18/100\n",
      "50000/50000 [==============================] - 8s 151us/step - loss: 1.2093 - acc: 0.5710 - val_loss: 1.3971 - val_acc: 0.5081\n",
      "Epoch 19/100\n",
      "50000/50000 [==============================] - 7s 147us/step - loss: 1.1931 - acc: 0.5725 - val_loss: 1.3677 - val_acc: 0.5169\n",
      "Epoch 20/100\n",
      "50000/50000 [==============================] - 7s 144us/step - loss: 1.1747 - acc: 0.5817 - val_loss: 1.3972 - val_acc: 0.5075\n",
      "Epoch 21/100\n",
      "50000/50000 [==============================] - 8s 167us/step - loss: 1.1578 - acc: 0.5862 - val_loss: 1.3985 - val_acc: 0.5149\n",
      "Epoch 22/100\n",
      "50000/50000 [==============================] - 7s 145us/step - loss: 1.1359 - acc: 0.5926 - val_loss: 1.4456 - val_acc: 0.5028\n",
      "Epoch 23/100\n",
      "50000/50000 [==============================] - 9s 178us/step - loss: 1.1184 - acc: 0.5991 - val_loss: 1.4089 - val_acc: 0.5124\n",
      "Epoch 24/100\n",
      "50000/50000 [==============================] - 7s 147us/step - loss: 1.0962 - acc: 0.6087 - val_loss: 1.3938 - val_acc: 0.5252\n",
      "Epoch 25/100\n",
      "50000/50000 [==============================] - 7s 145us/step - loss: 1.0852 - acc: 0.6111 - val_loss: 1.3600 - val_acc: 0.5332\n",
      "Epoch 26/100\n",
      "50000/50000 [==============================] - 7s 140us/step - loss: 1.0567 - acc: 0.6223 - val_loss: 1.4240 - val_acc: 0.5208\n",
      "Epoch 27/100\n",
      "50000/50000 [==============================] - 8s 151us/step - loss: 1.0515 - acc: 0.6227 - val_loss: 1.4013 - val_acc: 0.5225\n",
      "Epoch 28/100\n",
      "50000/50000 [==============================] - 7s 147us/step - loss: 1.0245 - acc: 0.6345 - val_loss: 1.4168 - val_acc: 0.5189\n",
      "Epoch 29/100\n",
      "50000/50000 [==============================] - 8s 165us/step - loss: 1.0128 - acc: 0.6364 - val_loss: 1.4112 - val_acc: 0.5272\n",
      "Epoch 30/100\n",
      "50000/50000 [==============================] - 7s 147us/step - loss: 0.9970 - acc: 0.6442 - val_loss: 1.4394 - val_acc: 0.5185\n",
      "Epoch 31/100\n",
      "50000/50000 [==============================] - 10s 199us/step - loss: 0.9732 - acc: 0.6516 - val_loss: 1.4311 - val_acc: 0.5272\n",
      "Epoch 32/100\n",
      "50000/50000 [==============================] - 8s 152us/step - loss: 0.9466 - acc: 0.6617 - val_loss: 1.4637 - val_acc: 0.5132\n",
      "Epoch 33/100\n",
      "50000/50000 [==============================] - 7s 143us/step - loss: 0.9407 - acc: 0.6636 - val_loss: 1.4347 - val_acc: 0.5244\n",
      "Epoch 34/100\n",
      "50000/50000 [==============================] - 7s 139us/step - loss: 0.9228 - acc: 0.6706 - val_loss: 1.4399 - val_acc: 0.5289\n",
      "Epoch 35/100\n",
      "50000/50000 [==============================] - 7s 139us/step - loss: 0.9026 - acc: 0.6754 - val_loss: 1.4874 - val_acc: 0.5174\n",
      "Epoch 36/100\n",
      "50000/50000 [==============================] - 7s 145us/step - loss: 0.8918 - acc: 0.6775 - val_loss: 1.4955 - val_acc: 0.5225\n",
      "Epoch 37/100\n",
      "50000/50000 [==============================] - 7s 147us/step - loss: 0.8604 - acc: 0.6932 - val_loss: 1.4983 - val_acc: 0.5230\n",
      "Epoch 38/100\n",
      "50000/50000 [==============================] - 7s 141us/step - loss: 0.8613 - acc: 0.6924 - val_loss: 1.5053 - val_acc: 0.5198\n",
      "Epoch 39/100\n",
      "50000/50000 [==============================] - 11s 211us/step - loss: 0.8383 - acc: 0.6997 - val_loss: 1.5634 - val_acc: 0.5171\n",
      "Epoch 40/100\n",
      "50000/50000 [==============================] - 9s 174us/step - loss: 0.8205 - acc: 0.7034 - val_loss: 1.5438 - val_acc: 0.5162\n",
      "Epoch 41/100\n",
      "50000/50000 [==============================] - 11s 218us/step - loss: 0.8201 - acc: 0.7067 - val_loss: 1.5634 - val_acc: 0.5119\n",
      "Epoch 42/100\n",
      "50000/50000 [==============================] - 8s 163us/step - loss: 0.7830 - acc: 0.7184 - val_loss: 1.5964 - val_acc: 0.5180\n",
      "Epoch 43/100\n",
      "50000/50000 [==============================] - 7s 138us/step - loss: 0.7708 - acc: 0.7247 - val_loss: 1.5800 - val_acc: 0.5208\n",
      "Epoch 44/100\n",
      "50000/50000 [==============================] - 7s 137us/step - loss: 0.7556 - acc: 0.7291 - val_loss: 1.6658 - val_acc: 0.5128\n",
      "Epoch 45/100\n",
      "50000/50000 [==============================] - 7s 137us/step - loss: 0.7284 - acc: 0.7386 - val_loss: 1.7063 - val_acc: 0.5090\n",
      "Epoch 46/100\n"
     ]
    },
    {
     "name": "stdout",
     "output_type": "stream",
     "text": [
      "50000/50000 [==============================] - 7s 139us/step - loss: 0.7328 - acc: 0.7356 - val_loss: 1.7038 - val_acc: 0.5118\n",
      "Epoch 47/100\n",
      "50000/50000 [==============================] - 28s 556us/step - loss: 0.7141 - acc: 0.7443 - val_loss: 1.7132 - val_acc: 0.5168\n",
      "Epoch 48/100\n",
      "50000/50000 [==============================] - 10s 206us/step - loss: 0.7068 - acc: 0.7473 - val_loss: 1.7049 - val_acc: 0.5191\n",
      "Epoch 49/100\n",
      "50000/50000 [==============================] - 7s 134us/step - loss: 0.6800 - acc: 0.7558 - val_loss: 1.7372 - val_acc: 0.5093\n",
      "Epoch 50/100\n",
      "50000/50000 [==============================] - 7s 134us/step - loss: 0.6653 - acc: 0.7598 - val_loss: 1.7781 - val_acc: 0.5183\n",
      "Epoch 51/100\n",
      "50000/50000 [==============================] - 7s 134us/step - loss: 0.6611 - acc: 0.7625 - val_loss: 1.7657 - val_acc: 0.5076\n",
      "Epoch 52/100\n",
      "50000/50000 [==============================] - 8s 164us/step - loss: 0.6510 - acc: 0.7656 - val_loss: 1.8395 - val_acc: 0.5088\n",
      "Epoch 53/100\n",
      "50000/50000 [==============================] - 7s 139us/step - loss: 0.6450 - acc: 0.7691 - val_loss: 1.7896 - val_acc: 0.5227\n",
      "Epoch 54/100\n",
      "50000/50000 [==============================] - 7s 133us/step - loss: 0.6203 - acc: 0.7767 - val_loss: 1.8342 - val_acc: 0.5149\n",
      "Epoch 55/100\n",
      "50000/50000 [==============================] - 7s 133us/step - loss: 0.6141 - acc: 0.7800 - val_loss: 1.8616 - val_acc: 0.5125\n",
      "Epoch 56/100\n",
      "50000/50000 [==============================] - 7s 132us/step - loss: 0.5922 - acc: 0.7879 - val_loss: 1.9301 - val_acc: 0.5195\n",
      "Epoch 57/100\n",
      "50000/50000 [==============================] - 7s 136us/step - loss: 0.5850 - acc: 0.7894 - val_loss: 1.9638 - val_acc: 0.5099\n",
      "Epoch 58/100\n",
      "50000/50000 [==============================] - 7s 133us/step - loss: 0.5689 - acc: 0.7973 - val_loss: 1.9622 - val_acc: 0.5068\n",
      "Epoch 59/100\n",
      "50000/50000 [==============================] - 7s 133us/step - loss: 0.5596 - acc: 0.8001 - val_loss: 1.9825 - val_acc: 0.5128\n",
      "Epoch 60/100\n",
      "50000/50000 [==============================] - 10s 204us/step - loss: 0.5691 - acc: 0.7959 - val_loss: 1.9875 - val_acc: 0.5071\n",
      "Epoch 61/100\n",
      "50000/50000 [==============================] - 27s 546us/step - loss: 0.5586 - acc: 0.8006 - val_loss: 1.9956 - val_acc: 0.5126\n",
      "Epoch 62/100\n",
      "50000/50000 [==============================] - 8s 162us/step - loss: 0.5350 - acc: 0.8100 - val_loss: 2.0202 - val_acc: 0.5120\n",
      "Epoch 63/100\n",
      "50000/50000 [==============================] - 7s 150us/step - loss: 0.5292 - acc: 0.8109 - val_loss: 2.0451 - val_acc: 0.5161\n",
      "Epoch 64/100\n",
      "50000/50000 [==============================] - 7s 138us/step - loss: 0.5010 - acc: 0.8190 - val_loss: 2.1708 - val_acc: 0.5115\n",
      "Epoch 65/100\n",
      "50000/50000 [==============================] - 8s 169us/step - loss: 0.5142 - acc: 0.8160 - val_loss: 2.1418 - val_acc: 0.5063\n",
      "Epoch 66/100\n",
      "50000/50000 [==============================] - 7s 137us/step - loss: 0.5048 - acc: 0.8169 - val_loss: 2.1066 - val_acc: 0.5050\n",
      "Epoch 67/100\n",
      "50000/50000 [==============================] - 7s 137us/step - loss: 0.4939 - acc: 0.8233 - val_loss: 2.2290 - val_acc: 0.5079\n",
      "Epoch 68/100\n",
      "50000/50000 [==============================] - 7s 142us/step - loss: 0.4886 - acc: 0.8259 - val_loss: 2.2053 - val_acc: 0.5114\n",
      "Epoch 69/100\n",
      "50000/50000 [==============================] - 7s 136us/step - loss: 0.4864 - acc: 0.8262 - val_loss: 2.2565 - val_acc: 0.5017\n",
      "Epoch 70/100\n",
      "50000/50000 [==============================] - 7s 136us/step - loss: 0.4858 - acc: 0.8254 - val_loss: 2.2635 - val_acc: 0.5065\n",
      "Epoch 71/100\n",
      "50000/50000 [==============================] - 7s 138us/step - loss: 0.4558 - acc: 0.8366 - val_loss: 2.3279 - val_acc: 0.4990\n",
      "Epoch 72/100\n",
      "50000/50000 [==============================] - 7s 139us/step - loss: 0.4632 - acc: 0.8325 - val_loss: 2.2928 - val_acc: 0.5007\n",
      "Epoch 73/100\n",
      "50000/50000 [==============================] - 7s 142us/step - loss: 0.4560 - acc: 0.8365 - val_loss: 2.3084 - val_acc: 0.4942\n",
      "Epoch 74/100\n",
      "50000/50000 [==============================] - 21s 416us/step - loss: 0.4373 - acc: 0.8429 - val_loss: 2.4305 - val_acc: 0.5069\n",
      "Epoch 75/100\n",
      "50000/50000 [==============================] - 18s 354us/step - loss: 0.4226 - acc: 0.8482 - val_loss: 2.3634 - val_acc: 0.5119\n",
      "Epoch 76/100\n",
      "50000/50000 [==============================] - 7s 138us/step - loss: 0.4136 - acc: 0.8513 - val_loss: 2.5347 - val_acc: 0.5003\n",
      "Epoch 77/100\n",
      "50000/50000 [==============================] - 7s 140us/step - loss: 0.4333 - acc: 0.8434 - val_loss: 2.4491 - val_acc: 0.5004\n",
      "Epoch 78/100\n",
      "50000/50000 [==============================] - 7s 139us/step - loss: 0.4093 - acc: 0.8533 - val_loss: 2.5049 - val_acc: 0.5114\n",
      "Epoch 79/100\n",
      "50000/50000 [==============================] - 8s 168us/step - loss: 0.4315 - acc: 0.8461 - val_loss: 2.5363 - val_acc: 0.5019\n",
      "Epoch 80/100\n",
      "50000/50000 [==============================] - 7s 138us/step - loss: 0.4008 - acc: 0.8580 - val_loss: 2.5282 - val_acc: 0.4995\n",
      "Epoch 81/100\n",
      "50000/50000 [==============================] - 7s 138us/step - loss: 0.4021 - acc: 0.8549 - val_loss: 2.5824 - val_acc: 0.5094\n",
      "Epoch 82/100\n",
      "50000/50000 [==============================] - 7s 139us/step - loss: 0.3862 - acc: 0.8628 - val_loss: 2.6187 - val_acc: 0.4978\n",
      "Epoch 83/100\n",
      "50000/50000 [==============================] - 7s 139us/step - loss: 0.3999 - acc: 0.8573 - val_loss: 2.6451 - val_acc: 0.5008\n",
      "Epoch 84/100\n",
      "50000/50000 [==============================] - 7s 141us/step - loss: 0.3805 - acc: 0.8658 - val_loss: 2.5999 - val_acc: 0.5035\n",
      "Epoch 85/100\n",
      "50000/50000 [==============================] - 7s 140us/step - loss: 0.4044 - acc: 0.8572 - val_loss: 2.5674 - val_acc: 0.5077\n",
      "Epoch 86/100\n",
      "50000/50000 [==============================] - 7s 139us/step - loss: 0.3525 - acc: 0.8757 - val_loss: 2.6729 - val_acc: 0.5028\n",
      "Epoch 87/100\n",
      "50000/50000 [==============================] - 12s 230us/step - loss: 0.3560 - acc: 0.8719 - val_loss: 2.7261 - val_acc: 0.5001\n",
      "Epoch 88/100\n",
      "50000/50000 [==============================] - 24s 472us/step - loss: 0.3676 - acc: 0.8689 - val_loss: 2.6953 - val_acc: 0.5058\n",
      "Epoch 89/100\n",
      "50000/50000 [==============================] - 11s 212us/step - loss: 0.3613 - acc: 0.8715 - val_loss: 2.6709 - val_acc: 0.5028\n",
      "Epoch 90/100\n",
      "50000/50000 [==============================] - 7s 139us/step - loss: 0.3494 - acc: 0.8764 - val_loss: 2.8301 - val_acc: 0.4969\n",
      "Epoch 91/100\n",
      "50000/50000 [==============================] - 7s 142us/step - loss: 0.3418 - acc: 0.8762 - val_loss: 2.7453 - val_acc: 0.4984\n",
      "Epoch 92/100\n",
      "50000/50000 [==============================] - 9s 171us/step - loss: 0.3608 - acc: 0.8726 - val_loss: 2.7252 - val_acc: 0.5034\n",
      "Epoch 93/100\n",
      "50000/50000 [==============================] - 7s 140us/step - loss: 0.3562 - acc: 0.8746 - val_loss: 2.7778 - val_acc: 0.4973\n",
      "Epoch 94/100\n",
      "50000/50000 [==============================] - 7s 139us/step - loss: 0.3254 - acc: 0.8839 - val_loss: 2.8730 - val_acc: 0.5002\n",
      "Epoch 95/100\n",
      "50000/50000 [==============================] - 7s 139us/step - loss: 0.3305 - acc: 0.8821 - val_loss: 2.8009 - val_acc: 0.5059\n",
      "Epoch 96/100\n",
      "50000/50000 [==============================] - 7s 140us/step - loss: 0.3355 - acc: 0.8792 - val_loss: 2.8664 - val_acc: 0.5056\n",
      "Epoch 97/100\n",
      "50000/50000 [==============================] - 7s 139us/step - loss: 0.3241 - acc: 0.8834 - val_loss: 2.8666 - val_acc: 0.5001\n",
      "Epoch 98/100\n",
      "50000/50000 [==============================] - 7s 139us/step - loss: 0.3211 - acc: 0.8842 - val_loss: 2.8902 - val_acc: 0.5050\n",
      "Epoch 99/100\n",
      "50000/50000 [==============================] - 7s 139us/step - loss: 0.2918 - acc: 0.8967 - val_loss: 2.9623 - val_acc: 0.5056\n",
      "Epoch 100/100\n",
      "50000/50000 [==============================] - 7s 139us/step - loss: 0.3308 - acc: 0.8836 - val_loss: 2.8962 - val_acc: 0.5017\n"
     ]
    },
    {
     "data": {
      "text/plain": [
       "<keras.callbacks.History at 0x230909a2748>"
      ]
     },
     "execution_count": 37,
     "metadata": {},
     "output_type": "execute_result"
    }
   ],
   "source": [
    "model.fit(x_train, y_train, \n",
    "          epochs=EPOCHS, \n",
    "          batch_size=BATCH_SIZE, \n",
    "          validation_data=(x_test, y_test), \n",
    "          shuffle=True)"
   ]
  },
  {
   "cell_type": "code",
   "execution_count": 38,
   "metadata": {},
   "outputs": [
    {
     "data": {
      "image/png": "[encoded data removed]",
      "text/plain": [
       "<Figure size 432x288 with 1 Axes>"
      ]
     },
     "metadata": {
      "needs_background": "light"
     },
     "output_type": "display_data"
    },
    {
     "data": {
      "image/png": "[encoded data removed]",
      "text/plain": [
       "<Figure size 432x288 with 1 Axes>"
      ]
     },
     "metadata": {
      "needs_background": "light"
     },
     "output_type": "display_data"
    }
   ],
   "source": [
    "import matplotlib.pyplot as plt\n",
    "\n",
    "\n",
    "train_loss = model.history.history[\"loss\"]\n",
    "valid_loss = model.history.history[\"val_loss\"]\n",
    "\n",
    "train_acc = model.history.history[\"acc\"]\n",
    "valid_acc = model.history.history[\"val_acc\"]\n",
    "\n",
    "plt.plot(range(len(train_loss)), train_loss, label=\"train loss\")\n",
    "plt.plot(range(len(valid_loss)), valid_loss, label=\"valid loss\")\n",
    "plt.legend()\n",
    "plt.title(\"Loss\")\n",
    "plt.show()\n",
    "\n",
    "plt.plot(range(len(train_acc)), train_acc, label=\"train accuracy\")\n",
    "plt.plot(range(len(valid_acc)), valid_acc, label=\"valid accuracy\")\n",
    "plt.legend()\n",
    "plt.title(\"Accuracy\")\n",
    "plt.show()"
   ]
  },
  {
   "cell_type": "code",
   "execution_count": null,
   "metadata": {},
   "outputs": [],
   "source": []
  }
 ],
 "metadata": {
  "kernelspec": {
   "display_name": "Python 3",
   "language": "python",
   "name": "python3"
  },
  "language_info": {
   "codemirror_mode": {
    "name": "ipython",
    "version": 3
   },
   "file_extension": ".py",
   "mimetype": "text/x-python",
   "name": "python",
   "nbconvert_exporter": "python",
   "pygments_lexer": "ipython3",
   "version": "3.7.3"
  }
 },
 "nbformat": 4,
 "nbformat_minor": 2
}
